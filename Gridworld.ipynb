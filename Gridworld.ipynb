{
  "nbformat": 4,
  "nbformat_minor": 0,
  "metadata": {
    "colab": {
      "provenance": [],
      "authorship_tag": "ABX9TyOY0j/mP4Go7CGDDlWkxydQ",
      "include_colab_link": true
    },
    "kernelspec": {
      "name": "python3",
      "display_name": "Python 3"
    },
    "language_info": {
      "name": "python"
    }
  },
  "cells": [
    {
      "cell_type": "markdown",
      "metadata": {
        "id": "view-in-github",
        "colab_type": "text"
      },
      "source": [
        "<a href=\"https://colab.research.google.com/github/Lederback/Gridworld/blob/main/Gridworld.ipynb\" target=\"_parent\"><img src=\"https://colab.research.google.com/assets/colab-badge.svg\" alt=\"Open In Colab\"/></a>"
      ]
    },
    {
      "cell_type": "markdown",
      "source": [
        "# Gridworld"
      ],
      "metadata": {
        "id": "MyUclpJaJ9ux"
      }
    },
    {
      "cell_type": "markdown",
      "source": [
        "## Criação da Grid\n",
        "Criando uma gird 8x8 e adicionando alguns, sendo eles:\n",
        "- Areia: Com uma recompensa negativa de -8\n",
        "- Montanha: Com uma recompensa negativa de -3\n",
        "\n",
        "Os demais indices tem uma recompensa neutra de 0"
      ],
      "metadata": {
        "id": "QUmh44uG_xxG"
      }
    },
    {
      "cell_type": "code",
      "source": [
        "def gridCreation():\n",
        "  import random\n",
        "\n",
        "  grid = [];\n",
        "\n",
        "  for i in range(0,8):\n",
        "    auxArray = []\n",
        "    auxValuesGrid = []\n",
        "    for j in range(0, 8):\n",
        "      rnd = random.randrange(20)\n",
        "\n",
        "      if i == 0 and j == 0: auxArray.append(0)\n",
        "      elif i == 7 and j == 7: auxArray.append(5)\n",
        "      elif rnd > 18: auxArray.append(-8);\n",
        "      elif rnd > 16: auxArray.append(-3);\n",
        "      else: auxArray.append(0);\n",
        "\n",
        "    grid.append(auxArray);\n",
        "\n",
        "  return grid"
      ],
      "metadata": {
        "id": "ZT5rkK_X96Oe"
      },
      "execution_count": null,
      "outputs": []
    },
    {
      "cell_type": "markdown",
      "source": [
        "## Atribuição de Valores\n",
        "Definindo valores padrões para cada indice da grid, inicialmente todos o indices sendo definidos como 0, em outra função será definido realmente os valores ponderados para cada indice utilizando a politica."
      ],
      "metadata": {
        "id": "zy198cjq__yh"
      }
    },
    {
      "cell_type": "code",
      "source": [
        "def valuesGridCreation():\n",
        "  import random\n",
        "\n",
        "  grid = [];\n",
        "\n",
        "  for i in range(0,8):\n",
        "    auxArray = []\n",
        "    auxValuesGrid = []\n",
        "    for j in range(0, 8):\n",
        "      auxArray.append(0);\n",
        "\n",
        "    grid.append(auxArray);\n",
        "\n",
        "  return grid"
      ],
      "metadata": {
        "id": "v3bNcSqj_hSk"
      },
      "execution_count": null,
      "outputs": []
    },
    {
      "cell_type": "markdown",
      "source": [
        "## Grid Plot\n",
        "Função que utiliza a biblioteca Matplotlib para criar uma representação visual da grid"
      ],
      "metadata": {
        "id": "37wTLWJrA2NH"
      }
    },
    {
      "cell_type": "code",
      "execution_count": null,
      "metadata": {
        "id": "JeybkYOEvM0S"
      },
      "outputs": [],
      "source": [
        "def getGridPlot(grid):\n",
        "  import matplotlib.pyplot as plt\n",
        "\n",
        "  fig, ax = plt.subplots()\n",
        "  ax.imshow(grid)"
      ]
    },
    {
      "cell_type": "markdown",
      "source": [
        "## Gerar Recompensa\n",
        "Para os campos comuns é definido um valor inicial de -0.05"
      ],
      "metadata": {
        "id": "DFKnr6MpBFkF"
      }
    },
    {
      "cell_type": "code",
      "source": [
        "def getReward(grid, i, j):\n",
        "  reward = grid[i][j];\n",
        "\n",
        "  if (reward == 0):\n",
        "    reward = -0.05;\n",
        "\n",
        "  return reward;\n"
      ],
      "metadata": {
        "id": "IzyUci2XBysW"
      },
      "execution_count": null,
      "outputs": []
    },
    {
      "cell_type": "markdown",
      "source": [
        "## Calculo dos valores das ações"
      ],
      "metadata": {
        "id": "7hOQ-semBQwW"
      }
    },
    {
      "cell_type": "code",
      "source": [
        "def getActionsValues(valuesGrid, grid, i, j, gamma):\n",
        "  up = 0;\n",
        "  if (i + 1 <= 7):\n",
        "    reward = getReward(grid, i + 1, j);\n",
        "\n",
        "    up = (policy * (reward + (gamma * valuesGrid[i + 1][j])));\n",
        "  else:\n",
        "    reward = getReward(grid, i, j);\n",
        "    up = (policy * reward);\n",
        "\n",
        "  down = 0;\n",
        "  if (i - 1 >= 0):\n",
        "    reward = getReward(grid, i - 1, j);\n",
        "\n",
        "    down = (policy * (reward + (gamma * valuesGrid[i - 1][j])));\n",
        "  else:\n",
        "    reward = getReward(grid, i, j);\n",
        "    down = (policy * reward);\n",
        "\n",
        "  right = 0;\n",
        "  if (j + 1 <= 7):\n",
        "    reward = getReward(grid, i, j + 1);\n",
        "\n",
        "    right = (policy * (reward + (gamma * valuesGrid[i][j + 1])));\n",
        "  else:\n",
        "    reward = getReward(grid, i, j);\n",
        "    right = (policy * reward);\n",
        "\n",
        "  left = 0;\n",
        "  if (j - 1 >= 0):\n",
        "    reward = getReward(grid, i, j - 1);\n",
        "\n",
        "    left = (policy * (reward + (gamma * valuesGrid[i][j - 1])));\n",
        "  else:\n",
        "    reward = getReward(grid, i, j);\n",
        "    left = (policy * reward);\n",
        "\n",
        "  return up + down + left + right;"
      ],
      "metadata": {
        "id": "bJmuGcMdECdV"
      },
      "execution_count": null,
      "outputs": []
    },
    {
      "cell_type": "markdown",
      "source": [
        "## Calcula da Recompensas de Cada Estado"
      ],
      "metadata": {
        "id": "eN4sV2Z1BUks"
      }
    },
    {
      "cell_type": "code",
      "source": [
        "def getStateRewards(theta, policy, gamma, delta, grid, valuesGrid):\n",
        "  while (delta > theta):\n",
        "    delta = 0;\n",
        "\n",
        "    for i in range(0, 8):\n",
        "      for j in range(0, 8):\n",
        "        v = valuesGrid[i][j];\n",
        "\n",
        "        actionsValues = getActionsValues(valuesGrid, grid, i, j, gamma);\n",
        "\n",
        "        valuesGrid[i][j] = actionsValues;\n",
        "\n",
        "        delta = max(delta, abs(v - valuesGrid[i][j]));\n",
        "\n",
        "  return valuesGrid;"
      ],
      "metadata": {
        "id": "-R3E3O5Cw3Lg"
      },
      "execution_count": null,
      "outputs": []
    },
    {
      "cell_type": "markdown",
      "source": [
        "## Greedy Search\n",
        "Nessa função é criado um algoritmo guloso para gerar um caminho do ponto incial(0, 0) da grid até o último ponto(7, 7)"
      ],
      "metadata": {
        "id": "UWNrzDcCBceQ"
      }
    },
    {
      "cell_type": "code",
      "source": [
        "def greedySearch(grid, valuesGrid):\n",
        "    path = [(0, 0)]\n",
        "    i, j = 0, 0\n",
        "    total_utility = 0\n",
        "    explored_paths = []\n",
        "    visited = set()\n",
        "\n",
        "    while (i, j) != (7, 7):\n",
        "        possible_moves = []\n",
        "\n",
        "        if i + 1 < 8 and (i + 1, j) not in visited and grid[i + 1][j] >= 0:\n",
        "            possible_moves.append(((i + 1, j), total_utility + valuesGrid[i + 1][j]))\n",
        "\n",
        "        if i - 1 >= 0 and (i - 1, j) not in visited and grid[i - 1][j] >= 0:\n",
        "            possible_moves.append(((i - 1, j), total_utility + valuesGrid[i - 1][j]))\n",
        "\n",
        "        if j + 1 < 8 and (i, j + 1) not in visited and grid[i][j + 1] >= 0:\n",
        "            possible_moves.append(((i, j + 1), total_utility + valuesGrid[i][j + 1]))\n",
        "\n",
        "        if j - 1 >= 0 and (i, j - 1) not in visited and grid[i][j - 1] >= 0:\n",
        "            possible_moves.append(((i, j - 1), total_utility + valuesGrid[i][j - 1]))\n",
        "\n",
        "        if not possible_moves:\n",
        "            if explored_paths:\n",
        "                path = explored_paths.pop()\n",
        "                i, j = path[-1]\n",
        "                continue\n",
        "            else:\n",
        "                break\n",
        "\n",
        "        next_move, total_utility = max(possible_moves, key=lambda x: x[1])\n",
        "\n",
        "        path.append(next_move)\n",
        "        visited.add(next_move)\n",
        "        i, j = next_move\n",
        "\n",
        "        explored_paths.append(list(path))\n",
        "\n",
        "    return path\n"
      ],
      "metadata": {
        "id": "QLFQEtBStDSP"
      },
      "execution_count": null,
      "outputs": []
    },
    {
      "cell_type": "markdown",
      "source": [
        "## Criar Grid do Caminho\n",
        "Após gerado os passos necessários para sair do ponto incial para o final, esse função gera uma grid com os caminho gerado."
      ],
      "metadata": {
        "id": "dNI4IRShI9o1"
      }
    },
    {
      "cell_type": "code",
      "source": [
        "def createPathingGrid(grid, bestPath):\n",
        "  #actualStep\n",
        "\n",
        "  for i in range(8):\n",
        "    for j in range(8):\n",
        "      for k in range(len(bestPath)):\n",
        "        if i == bestPath[k][0] and j == bestPath[k][1]:\n",
        "            grid[i][j] = 11\n",
        "\n",
        "  return grid"
      ],
      "metadata": {
        "id": "6f4s54eAxfAf"
      },
      "execution_count": null,
      "outputs": []
    },
    {
      "cell_type": "markdown",
      "source": [
        "## Implementação das Funções"
      ],
      "metadata": {
        "id": "Vl_UViFXKMNp"
      }
    },
    {
      "cell_type": "code",
      "source": [
        "grid = gridCreation();\n",
        "valuesGrid = valuesGridCreation();\n",
        "\n",
        "getGridPlot(grid);\n",
        "\n",
        "theta = 0.01;\n",
        "gamma = 0.9;\n",
        "policy = 0.25;\n",
        "delta = theta + 1;\n",
        "\n",
        "rewardGrid = getStateRewards(theta, policy, gamma, delta, grid, valuesGrid);\n",
        "bestPath = greedySearch(grid, rewardGrid)\n",
        "\n",
        "gridPath = createPathingGrid(grid, bestPath)\n",
        "\n",
        "getGridPlot(gridPath)"
      ],
      "metadata": {
        "colab": {
          "base_uri": "https://localhost:8080/",
          "height": 843
        },
        "id": "pcFqs11sA6e7",
        "outputId": "1bb19acc-1320-463f-8ac1-5c7b92ba1d0c"
      },
      "execution_count": null,
      "outputs": [
        {
          "output_type": "display_data",
          "data": {
            "text/plain": [
              "<Figure size 640x480 with 1 Axes>"
            ],
            "image/png": "[encoded data removed]"
          },
          "metadata": {}
        },
        {
          "output_type": "display_data",
          "data": {
            "text/plain": [
              "<Figure size 640x480 with 1 Axes>"
            ],
            "image/png": "[encoded data removed]"
          },
          "metadata": {}
        }
      ]
    }
  ]
}